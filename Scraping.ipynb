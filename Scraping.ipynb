{
 "cells": [
  {
   "cell_type": "code",
   "execution_count": 116,
   "metadata": {
    "collapsed": true
   },
   "outputs": [],
   "source": [
    "import requests\n",
    "k = requests.get('https://bakerbynature.com/the-most-wonderful-vegan-chocolate-chip-cookies-ever/')"
   ]
  },
  {
   "cell_type": "code",
   "execution_count": 117,
   "metadata": {},
   "outputs": [
    {
     "name": "stdout",
     "output_type": "stream",
     "text": [
      "<!DOCTYPE html><html lang=\"en-US\" prefix=\"og: http://ogp.me/ns#\"><head><meta charset=\"UTF-8\" /><script src='https://bakerbynature.com/min/css_async.js' defer></script><link rel=\"preconnect\" href=\"https://fonts.gstatic.com/\" crossorigin /><title>The BEST Vegan Chocolate Chip Cookies in the World!</title><meta name=\"viewport\" content=\"width=device-width, initial-scale=1\" /><style>@font-face {font-fa\n"
     ]
    }
   ],
   "source": [
    "print(k.text[:400])"
   ]
  },
  {
   "cell_type": "code",
   "execution_count": 118,
   "metadata": {
    "collapsed": true
   },
   "outputs": [],
   "source": [
    "from bs4 import BeautifulSoup\n",
    "soup = BeautifulSoup(k.text, 'html.parser')"
   ]
  },
  {
   "cell_type": "code",
   "execution_count": 119,
   "metadata": {},
   "outputs": [],
   "source": [
    "recipe = soup.find_all('li', attrs = {'itemprop':'recipeIngredient'})"
   ]
  },
  {
   "cell_type": "code",
   "execution_count": 120,
   "metadata": {},
   "outputs": [
    {
     "data": {
      "text/plain": [
       "10"
      ]
     },
     "execution_count": 120,
     "metadata": {},
     "output_type": "execute_result"
    }
   ],
   "source": [
    "len(recipe)"
   ]
  },
  {
   "cell_type": "code",
   "execution_count": 121,
   "metadata": {},
   "outputs": [
    {
     "data": {
      "text/plain": [
       "<li class=\"cookbook-ingredient\" itemprop=\"recipeIngredient\">1/2 cup coconut oil, solid (be sure it is not melted at all)</li>"
      ]
     },
     "execution_count": 121,
     "metadata": {},
     "output_type": "execute_result"
    }
   ],
   "source": [
    "recipe[0]"
   ]
  },
  {
   "cell_type": "code",
   "execution_count": 122,
   "metadata": {},
   "outputs": [
    {
     "data": {
      "text/plain": [
       "'1/2 cup coconut oil, solid (be sure it is not melted at all)'"
      ]
     },
     "execution_count": 122,
     "metadata": {},
     "output_type": "execute_result"
    }
   ],
   "source": [
    "recipe[0].text"
   ]
  },
  {
   "cell_type": "code",
   "execution_count": 123,
   "metadata": {},
   "outputs": [
    {
     "data": {
      "text/plain": [
       "[<li class=\"cookbook-ingredient\" itemprop=\"recipeIngredient\">1/2 cup coconut oil, solid (be sure it is not melted at all)</li>,\n",
       " <li class=\"cookbook-ingredient\" itemprop=\"recipeIngredient\">1 and 1/4 cups light brown sugar, packed</li>,\n",
       " <li class=\"cookbook-ingredient\" itemprop=\"recipeIngredient\">2 teaspoons vanilla extract</li>,\n",
       " <li class=\"cookbook-ingredient\" itemprop=\"recipeIngredient\">1/4 cup coconut milk (I like to use the thicker Thai variety, but any coconut milk will work)</li>,\n",
       " <li class=\"cookbook-ingredient\" itemprop=\"recipeIngredient\">1/4 cup unsweetened applesauce</li>,\n",
       " <li class=\"cookbook-ingredient\" itemprop=\"recipeIngredient\">2 and 1/4 cups all-purpose flour (be sure not to pack your flour)</li>,\n",
       " <li class=\"cookbook-ingredient\" itemprop=\"recipeIngredient\">1 teaspoon baking soda</li>,\n",
       " <li class=\"cookbook-ingredient\" itemprop=\"recipeIngredient\">1/2 teaspoon salt</li>,\n",
       " <li class=\"cookbook-ingredient\" itemprop=\"recipeIngredient\">2 cups chocolate chips (use vegan chocolate chips if vegan), divided</li>,\n",
       " <li class=\"cookbook-ingredient\" itemprop=\"recipeIngredient\">Flaky sea salt, optional</li>]"
      ]
     },
     "execution_count": 123,
     "metadata": {},
     "output_type": "execute_result"
    }
   ],
   "source": [
    "recipe[0:10]"
   ]
  },
  {
   "cell_type": "code",
   "execution_count": 124,
   "metadata": {},
   "outputs": [
    {
     "data": {
      "text/plain": [
       "'1/2 cup coconut oil, solid (be sure it is not melted at all)'"
      ]
     },
     "execution_count": 124,
     "metadata": {},
     "output_type": "execute_result"
    }
   ],
   "source": [
    "recipe[0].text"
   ]
  },
  {
   "cell_type": "code",
   "execution_count": 125,
   "metadata": {},
   "outputs": [],
   "source": [
    "table = []\n",
    "for i in recipe[0:10]:\n",
    "    recipe = i.text\n",
    "    table.append(recipe)"
   ]
  },
  {
   "cell_type": "code",
   "execution_count": 126,
   "metadata": {},
   "outputs": [
    {
     "data": {
      "text/plain": [
       "10"
      ]
     },
     "execution_count": 126,
     "metadata": {},
     "output_type": "execute_result"
    }
   ],
   "source": [
    "len(table)"
   ]
  },
  {
   "cell_type": "code",
   "execution_count": 127,
   "metadata": {},
   "outputs": [
    {
     "data": {
      "text/plain": [
       "['1/2 cup coconut oil, solid (be sure it is not melted at all)',\n",
       " '1 and 1/4 cups light brown sugar, packed',\n",
       " '2 teaspoons vanilla extract',\n",
       " '1/4 cup coconut milk (I like to use the thicker Thai variety, but any coconut milk will work)',\n",
       " '1/4 cup unsweetened applesauce']"
      ]
     },
     "execution_count": 127,
     "metadata": {},
     "output_type": "execute_result"
    }
   ],
   "source": [
    "table[:5]"
   ]
  },
  {
   "cell_type": "code",
   "execution_count": 129,
   "metadata": {
    "collapsed": true
   },
   "outputs": [],
   "source": [
    "import pandas as pd \n",
    "df = pd.DataFrame(table, columns=['Recipe for Vegan Chocolate Chip Cookies'])"
   ]
  },
  {
   "cell_type": "code",
   "execution_count": 130,
   "metadata": {},
   "outputs": [
    {
     "data": {
      "text/html": [
       "<div>\n",
       "<style>\n",
       "    .dataframe thead tr:only-child th {\n",
       "        text-align: right;\n",
       "    }\n",
       "\n",
       "    .dataframe thead th {\n",
       "        text-align: left;\n",
       "    }\n",
       "\n",
       "    .dataframe tbody tr th {\n",
       "        vertical-align: top;\n",
       "    }\n",
       "</style>\n",
       "<table border=\"1\" class=\"dataframe\">\n",
       "  <thead>\n",
       "    <tr style=\"text-align: right;\">\n",
       "      <th></th>\n",
       "      <th>Recipe for Vegan Chocolate Chip Cookies</th>\n",
       "    </tr>\n",
       "  </thead>\n",
       "  <tbody>\n",
       "    <tr>\n",
       "      <th>0</th>\n",
       "      <td>1/2 cup coconut oil, solid (be sure it is not ...</td>\n",
       "    </tr>\n",
       "    <tr>\n",
       "      <th>1</th>\n",
       "      <td>1 and 1/4 cups light brown sugar, packed</td>\n",
       "    </tr>\n",
       "    <tr>\n",
       "      <th>2</th>\n",
       "      <td>2 teaspoons vanilla extract</td>\n",
       "    </tr>\n",
       "    <tr>\n",
       "      <th>3</th>\n",
       "      <td>1/4 cup coconut milk (I like to use the thicke...</td>\n",
       "    </tr>\n",
       "    <tr>\n",
       "      <th>4</th>\n",
       "      <td>1/4 cup unsweetened applesauce</td>\n",
       "    </tr>\n",
       "  </tbody>\n",
       "</table>\n",
       "</div>"
      ],
      "text/plain": [
       "             Recipe for Vegan Chocolate Chip Cookies\n",
       "0  1/2 cup coconut oil, solid (be sure it is not ...\n",
       "1           1 and 1/4 cups light brown sugar, packed\n",
       "2                        2 teaspoons vanilla extract\n",
       "3  1/4 cup coconut milk (I like to use the thicke...\n",
       "4                     1/4 cup unsweetened applesauce"
      ]
     },
     "execution_count": 130,
     "metadata": {},
     "output_type": "execute_result"
    }
   ],
   "source": [
    "df.head()"
   ]
  },
  {
   "cell_type": "code",
   "execution_count": 131,
   "metadata": {
    "collapsed": true
   },
   "outputs": [],
   "source": [
    "df.to_csv('cookies_recipe.csv', index=False, encoding= 'utf-8')"
   ]
  },
  {
   "cell_type": "code",
   "execution_count": 132,
   "metadata": {
    "collapsed": true
   },
   "outputs": [],
   "source": [
    "df = pd.read_csv('cookies_recipe.csv', encoding= 'utf-8')"
   ]
  },
  {
   "cell_type": "code",
   "execution_count": 133,
   "metadata": {},
   "outputs": [
    {
     "data": {
      "text/html": [
       "<div>\n",
       "<style>\n",
       "    .dataframe thead tr:only-child th {\n",
       "        text-align: right;\n",
       "    }\n",
       "\n",
       "    .dataframe thead th {\n",
       "        text-align: left;\n",
       "    }\n",
       "\n",
       "    .dataframe tbody tr th {\n",
       "        vertical-align: top;\n",
       "    }\n",
       "</style>\n",
       "<table border=\"1\" class=\"dataframe\">\n",
       "  <thead>\n",
       "    <tr style=\"text-align: right;\">\n",
       "      <th></th>\n",
       "      <th>Recipe for Vegan Chocolate Chip Cookies</th>\n",
       "    </tr>\n",
       "  </thead>\n",
       "  <tbody>\n",
       "    <tr>\n",
       "      <th>0</th>\n",
       "      <td>1/2 cup coconut oil, solid (be sure it is not ...</td>\n",
       "    </tr>\n",
       "    <tr>\n",
       "      <th>1</th>\n",
       "      <td>1 and 1/4 cups light brown sugar, packed</td>\n",
       "    </tr>\n",
       "    <tr>\n",
       "      <th>2</th>\n",
       "      <td>2 teaspoons vanilla extract</td>\n",
       "    </tr>\n",
       "    <tr>\n",
       "      <th>3</th>\n",
       "      <td>1/4 cup coconut milk (I like to use the thicke...</td>\n",
       "    </tr>\n",
       "    <tr>\n",
       "      <th>4</th>\n",
       "      <td>1/4 cup unsweetened applesauce</td>\n",
       "    </tr>\n",
       "    <tr>\n",
       "      <th>5</th>\n",
       "      <td>2 and 1/4 cups all-purpose flour (be sure not ...</td>\n",
       "    </tr>\n",
       "    <tr>\n",
       "      <th>6</th>\n",
       "      <td>1 teaspoon baking soda</td>\n",
       "    </tr>\n",
       "  </tbody>\n",
       "</table>\n",
       "</div>"
      ],
      "text/plain": [
       "             Recipe for Vegan Chocolate Chip Cookies\n",
       "0  1/2 cup coconut oil, solid (be sure it is not ...\n",
       "1           1 and 1/4 cups light brown sugar, packed\n",
       "2                        2 teaspoons vanilla extract\n",
       "3  1/4 cup coconut milk (I like to use the thicke...\n",
       "4                     1/4 cup unsweetened applesauce\n",
       "5  2 and 1/4 cups all-purpose flour (be sure not ...\n",
       "6                             1 teaspoon baking soda"
      ]
     },
     "execution_count": 133,
     "metadata": {},
     "output_type": "execute_result"
    }
   ],
   "source": [
    "df.head(7)"
   ]
  },
  {
   "cell_type": "code",
   "execution_count": null,
   "metadata": {
    "collapsed": true
   },
   "outputs": [],
   "source": []
  }
 ],
 "metadata": {
  "kernelspec": {
   "display_name": "Python 3",
   "language": "python",
   "name": "python3"
  },
  "language_info": {
   "codemirror_mode": {
    "name": "ipython",
    "version": 3
   },
   "file_extension": ".py",
   "mimetype": "text/x-python",
   "name": "python",
   "nbconvert_exporter": "python",
   "pygments_lexer": "ipython3",
   "version": "3.6.3"
  }
 },
 "nbformat": 4,
 "nbformat_minor": 2
}
